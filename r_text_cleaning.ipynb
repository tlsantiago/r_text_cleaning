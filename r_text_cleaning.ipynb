{
 "cells": [
  {
   "cell_type": "code",
   "execution_count": 1,
   "id": "9a139f5e",
   "metadata": {},
   "outputs": [
    {
     "name": "stdout",
     "output_type": "stream",
     "text": [
      "package 'tm' successfully unpacked and MD5 sums checked\n"
     ]
    },
    {
     "name": "stderr",
     "output_type": "stream",
     "text": [
      "Warning message:\n",
      "\"cannot remove prior installation of package 'tm'\"Warning message in file.copy(savedcopy, lib, recursive = TRUE):\n",
      "\"problem copying C:\\Users\\ssant\\Anaconda3\\Lib\\R\\library\\00LOCK\\tm\\libs\\x64\\tm.dll to C:\\Users\\ssant\\Anaconda3\\Lib\\R\\library\\tm\\libs\\x64\\tm.dll: Permission denied\"Warning message:\n",
      "\"restored 'tm'\""
     ]
    },
    {
     "name": "stdout",
     "output_type": "stream",
     "text": [
      "\n",
      "The downloaded binary packages are in\n",
      "\tC:\\Users\\ssant\\AppData\\Local\\Temp\\RtmpAZVQdo\\downloaded_packages\n"
     ]
    }
   ],
   "source": [
    "install.packages(\"tm\")"
   ]
  },
  {
   "cell_type": "code",
   "execution_count": 2,
   "id": "847acaa5",
   "metadata": {},
   "outputs": [
    {
     "name": "stderr",
     "output_type": "stream",
     "text": [
      "Warning message:\n",
      "\"package 'tm' was built under R version 3.6.3\"Loading required package: NLP\n",
      "Warning message:\n",
      "\"package 'NLP' was built under R version 3.6.3\""
     ]
    },
    {
     "data": {
      "text/html": [
       "'C:/Users/ssant'"
      ],
      "text/latex": [
       "'C:/Users/ssant'"
      ],
      "text/markdown": [
       "'C:/Users/ssant'"
      ],
      "text/plain": [
       "[1] \"C:/Users/ssant\""
      ]
     },
     "metadata": {},
     "output_type": "display_data"
    }
   ],
   "source": [
    "library(\"tm\")\n",
    "\n",
    "getwd()"
   ]
  },
  {
   "cell_type": "code",
   "execution_count": 3,
   "id": "2ffe019a",
   "metadata": {},
   "outputs": [
    {
     "name": "stderr",
     "output_type": "stream",
     "text": [
      "Warning message in file(con, \"r\"):\n",
      "\"não foi possível abrir o arquivo './textoemexmplo.txt': No such file or directory\""
     ]
    },
    {
     "ename": "ERROR",
     "evalue": "Error in file(con, \"r\"): não é possível abrir a conexão\n",
     "output_type": "error",
     "traceback": [
      "Error in file(con, \"r\"): não é possível abrir a conexão\nTraceback:\n",
      "1. readLines(\"./textoemexmplo.txt\", encoding = \"UTF-8\")",
      "2. file(con, \"r\")"
     ]
    }
   ],
   "source": [
    "#Read file\n",
    "texto <- unclean_text <- readLines(\"./textoexemplo.txt\",encoding='UTF-8')\n",
    "unclean_text"
   ]
  },
  {
   "cell_type": "code",
   "execution_count": 4,
   "id": "dd788381",
   "metadata": {},
   "outputs": [
    {
     "ename": "ERROR",
     "evalue": "Error in as.character(x$content): cannot coerce type 'closure' to vector of type 'character'\n",
     "output_type": "error",
     "traceback": [
      "Error in as.character(x$content): cannot coerce type 'closure' to vector of type 'character'\nTraceback:\n",
      "1. Corpus(VectorSource(text))",
      "2. SimpleCorpus(x, readerControl)"
     ]
    }
   ],
   "source": [
    "# Load the data as a corpus\n",
    "TextDoc <- Corpus(VectorSource(text))"
   ]
  },
  {
   "cell_type": "code",
   "execution_count": 5,
   "id": "fcc2cb42",
   "metadata": {},
   "outputs": [],
   "source": [
    "#toSpace creation \n",
    "toSpace <- content_transformer(function(x, pattern) {return (gsub(pattern, \" \", x))})"
   ]
  },
  {
   "cell_type": "code",
   "execution_count": 6,
   "id": "9ed6bc71",
   "metadata": {},
   "outputs": [
    {
     "ename": "ERROR",
     "evalue": "Error in tm_map(TextDoc, toSpace, \"@\\\\w+\"): objeto 'TextDoc' não encontrado\n",
     "output_type": "error",
     "traceback": [
      "Error in tm_map(TextDoc, toSpace, \"@\\\\w+\"): objeto 'TextDoc' não encontrado\nTraceback:\n",
      "1. tm_map(TextDoc, toSpace, \"@\\\\w+\")"
     ]
    }
   ],
   "source": [
    "#Cleaning\n",
    "TextDoc <- tm_map(TextDoc, toSpace, \"@\\\\w+\")\n",
    "TextDoc <- tm_map(TextDoc, toSpace, \"#\\\\w+\")\n",
    "TextDoc <- tm_map(TextDoc, toSpace, \" ?(f|ht)(tp)(s?)(://)(.*)[.|/](.*)\")\n",
    "\n",
    "#Viz\n",
    "TextDoc[[1]]$content"
   ]
  },
  {
   "cell_type": "code",
   "execution_count": 7,
   "id": "8f691c5b",
   "metadata": {},
   "outputs": [
    {
     "data": {
      "text/html": [
       "<ol class=list-inline>\n",
       "\t<li>'removeNumbers'</li>\n",
       "\t<li>'removePunctuation'</li>\n",
       "\t<li>'removeWords'</li>\n",
       "\t<li>'stemDocument'</li>\n",
       "\t<li>'stripWhitespace'</li>\n",
       "</ol>\n"
      ],
      "text/latex": [
       "\\begin{enumerate*}\n",
       "\\item 'removeNumbers'\n",
       "\\item 'removePunctuation'\n",
       "\\item 'removeWords'\n",
       "\\item 'stemDocument'\n",
       "\\item 'stripWhitespace'\n",
       "\\end{enumerate*}\n"
      ],
      "text/markdown": [
       "1. 'removeNumbers'\n",
       "2. 'removePunctuation'\n",
       "3. 'removeWords'\n",
       "4. 'stemDocument'\n",
       "5. 'stripWhitespace'\n",
       "\n",
       "\n"
      ],
      "text/plain": [
       "[1] \"removeNumbers\"     \"removePunctuation\" \"removeWords\"      \n",
       "[4] \"stemDocument\"      \"stripWhitespace\"  "
      ]
     },
     "metadata": {},
     "output_type": "display_data"
    }
   ],
   "source": [
    "getTransformations()"
   ]
  },
  {
   "cell_type": "code",
   "execution_count": 8,
   "id": "46756119",
   "metadata": {},
   "outputs": [
    {
     "ename": "ERROR",
     "evalue": "Error in tm_map(TextDoc, removePunctuation): objeto 'TextDoc' não encontrado\n",
     "output_type": "error",
     "traceback": [
      "Error in tm_map(TextDoc, removePunctuation): objeto 'TextDoc' não encontrado\nTraceback:\n",
      "1. tm_map(TextDoc, removePunctuation)"
     ]
    }
   ],
   "source": [
    "#Remove punctuation – replace punctuation marks with ” “\n",
    "TextDoc <- tm_map(TextDoc, removePunctuation)"
   ]
  },
  {
   "cell_type": "code",
   "execution_count": 9,
   "id": "f81f6ddf",
   "metadata": {},
   "outputs": [
    {
     "ename": "ERROR",
     "evalue": "Error in tm_map(TextDoc, toSpace, \"–\"): objeto 'TextDoc' não encontrado\n",
     "output_type": "error",
     "traceback": [
      "Error in tm_map(TextDoc, toSpace, \"–\"): objeto 'TextDoc' não encontrado\nTraceback:\n",
      "1. tm_map(TextDoc, toSpace, \"–\")"
     ]
    }
   ],
   "source": [
    "TextDoc <- tm_map(TextDoc, toSpace, \"–\")\n",
    "TextDoc <- tm_map(TextDoc, toSpace, \"“\")\n",
    "TextDoc <- tm_map(TextDoc, toSpace, \"”\")"
   ]
  },
  {
   "cell_type": "code",
   "execution_count": 10,
   "id": "4e24526d",
   "metadata": {},
   "outputs": [
    {
     "ename": "ERROR",
     "evalue": "Error in tm_map(TextDoc, content_transformer(tolower)): objeto 'TextDoc' não encontrado\n",
     "output_type": "error",
     "traceback": [
      "Error in tm_map(TextDoc, content_transformer(tolower)): objeto 'TextDoc' não encontrado\nTraceback:\n",
      "1. tm_map(TextDoc, content_transformer(tolower))"
     ]
    }
   ],
   "source": [
    "#Transform to lower case (need to wrap in content_transformer)\n",
    "TextDoc <- tm_map(TextDoc,content_transformer(tolower))"
   ]
  },
  {
   "cell_type": "code",
   "execution_count": 11,
   "id": "2172259b",
   "metadata": {},
   "outputs": [
    {
     "ename": "ERROR",
     "evalue": "Error in tm_map(TextDoc, removeNumbers): objeto 'TextDoc' não encontrado\n",
     "output_type": "error",
     "traceback": [
      "Error in tm_map(TextDoc, removeNumbers): objeto 'TextDoc' não encontrado\nTraceback:\n",
      "1. tm_map(TextDoc, removeNumbers)"
     ]
    }
   ],
   "source": [
    "#Strip digits (std transformation, so no need for content_transformer)\n",
    "TextDoc <- tm_map(TextDoc, removeNumbers)"
   ]
  },
  {
   "cell_type": "code",
   "execution_count": 12,
   "id": "8722c544",
   "metadata": {},
   "outputs": [
    {
     "name": "stdout",
     "output_type": "stream",
     "text": [
      "  [1] \"de\"           \"a\"            \"o\"            \"que\"          \"e\"           \n",
      "  [6] \"do\"           \"da\"           \"em\"           \"um\"           \"para\"        \n",
      " [11] \"com\"          \"não\"          \"uma\"          \"os\"           \"no\"          \n",
      " [16] \"se\"           \"na\"           \"por\"          \"mais\"         \"as\"          \n",
      " [21] \"dos\"          \"como\"         \"mas\"          \"ao\"           \"ele\"         \n",
      " [26] \"das\"          \"à\"            \"seu\"          \"sua\"          \"ou\"          \n",
      " [31] \"quando\"       \"muito\"        \"nos\"          \"já\"           \"eu\"          \n",
      " [36] \"também\"       \"só\"           \"pelo\"         \"pela\"         \"até\"         \n",
      " [41] \"isso\"         \"ela\"          \"entre\"        \"depois\"       \"sem\"         \n",
      " [46] \"mesmo\"        \"aos\"          \"seus\"         \"quem\"         \"nas\"         \n",
      " [51] \"me\"           \"esse\"         \"eles\"         \"você\"         \"essa\"        \n",
      " [56] \"num\"          \"nem\"          \"suas\"         \"meu\"          \"às\"          \n",
      " [61] \"minha\"        \"numa\"         \"pelos\"        \"elas\"         \"qual\"        \n",
      " [66] \"nós\"          \"lhe\"          \"deles\"        \"essas\"        \"esses\"       \n",
      " [71] \"pelas\"        \"este\"         \"dele\"         \"tu\"           \"te\"          \n",
      " [76] \"vocês\"        \"vos\"          \"lhes\"         \"meus\"         \"minhas\"      \n",
      " [81] \"teu\"          \"tua\"          \"teus\"         \"tuas\"         \"nosso\"       \n",
      " [86] \"nossa\"        \"nossos\"       \"nossas\"       \"dela\"         \"delas\"       \n",
      " [91] \"esta\"         \"estes\"        \"estas\"        \"aquele\"       \"aquela\"      \n",
      " [96] \"aqueles\"      \"aquelas\"      \"isto\"         \"aquilo\"       \"estou\"       \n",
      "[101] \"está\"         \"estamos\"      \"estão\"        \"estive\"       \"esteve\"      \n",
      "[106] \"estivemos\"    \"estiveram\"    \"estava\"       \"estávamos\"    \"estavam\"     \n",
      "[111] \"estivera\"     \"estivéramos\"  \"esteja\"       \"estejamos\"    \"estejam\"     \n",
      "[116] \"estivesse\"    \"estivéssemos\" \"estivessem\"   \"estiver\"      \"estivermos\"  \n",
      "[121] \"estiverem\"    \"hei\"          \"há\"           \"havemos\"      \"hão\"         \n",
      "[126] \"houve\"        \"houvemos\"     \"houveram\"     \"houvera\"      \"houvéramos\"  \n",
      "[131] \"haja\"         \"hajamos\"      \"hajam\"        \"houvesse\"     \"houvéssemos\" \n",
      "[136] \"houvessem\"    \"houver\"       \"houvermos\"    \"houverem\"     \"houverei\"    \n",
      "[141] \"houverá\"      \"houveremos\"   \"houverão\"     \"houveria\"     \"houveríamos\" \n",
      "[146] \"houveriam\"    \"sou\"          \"somos\"        \"são\"          \"era\"         \n",
      "[151] \"éramos\"       \"eram\"         \"fui\"          \"foi\"          \"fomos\"       \n",
      "[156] \"foram\"        \"fora\"         \"fôramos\"      \"seja\"         \"sejamos\"     \n",
      "[161] \"sejam\"        \"fosse\"        \"fôssemos\"     \"fossem\"       \"for\"         \n",
      "[166] \"formos\"       \"forem\"        \"serei\"        \"será\"         \"seremos\"     \n",
      "[171] \"serão\"        \"seria\"        \"seríamos\"     \"seriam\"       \"tenho\"       \n",
      "[176] \"tem\"          \"temos\"        \"tém\"          \"tinha\"        \"tínhamos\"    \n",
      "[181] \"tinham\"       \"tive\"         \"teve\"         \"tivemos\"      \"tiveram\"     \n",
      "[186] \"tivera\"       \"tivéramos\"    \"tenha\"        \"tenhamos\"     \"tenham\"      \n",
      "[191] \"tivesse\"      \"tivéssemos\"   \"tivessem\"     \"tiver\"        \"tivermos\"    \n",
      "[196] \"tiverem\"      \"terei\"        \"terá\"         \"teremos\"      \"terão\"       \n",
      "[201] \"teria\"        \"teríamos\"     \"teriam\"      \n"
     ]
    },
    {
     "ename": "ERROR",
     "evalue": "Error in tm_map(TextDoc, removeWords, \"é\"): objeto 'TextDoc' não encontrado\n",
     "output_type": "error",
     "traceback": [
      "Error in tm_map(TextDoc, removeWords, \"é\"): objeto 'TextDoc' não encontrado\nTraceback:\n",
      "1. tm_map(TextDoc, removeWords, \"é\")"
     ]
    }
   ],
   "source": [
    "print(stopwords(\"portuguese\"))\n",
    "\n",
    "#remove stopwords using the standard list in tm\n",
    "TextDoc <- tm_map(TextDoc, removeWords, \"é\")"
   ]
  },
  {
   "cell_type": "code",
   "execution_count": 13,
   "id": "3bc3fd18",
   "metadata": {},
   "outputs": [
    {
     "ename": "ERROR",
     "evalue": "Error in tm_map(TextDoc, stripWhitespace): objeto 'TextDoc' não encontrado\n",
     "output_type": "error",
     "traceback": [
      "Error in tm_map(TextDoc, stripWhitespace): objeto 'TextDoc' não encontrado\nTraceback:\n",
      "1. tm_map(TextDoc, stripWhitespace)"
     ]
    }
   ],
   "source": [
    "#Strip whitespace\n",
    "TextDoc <- tm_map(TextDoc, stripWhitespace)"
   ]
  },
  {
   "cell_type": "code",
   "execution_count": 14,
   "id": "6770e475",
   "metadata": {},
   "outputs": [
    {
     "ename": "ERROR",
     "evalue": "Error in tm_map(TextDoc, stemDocument): objeto 'TextDoc' não encontrado\n",
     "output_type": "error",
     "traceback": [
      "Error in tm_map(TextDoc, stemDocument): objeto 'TextDoc' não encontrado\nTraceback:\n",
      "1. tm_map(TextDoc, stemDocument)"
     ]
    }
   ],
   "source": [
    "#stem the corpus\n",
    "TextDoc <- tm_map(TextDoc, stemDocument)"
   ]
  },
  {
   "cell_type": "code",
   "execution_count": 15,
   "id": "190e5fce",
   "metadata": {},
   "outputs": [
    {
     "ename": "ERROR",
     "evalue": "Error in TermDocumentMatrix(TextDoc): objeto 'TextDoc' não encontrado\n",
     "output_type": "error",
     "traceback": [
      "Error in TermDocumentMatrix(TextDoc): objeto 'TextDoc' não encontrado\nTraceback:\n",
      "1. TermDocumentMatrix(TextDoc)"
     ]
    }
   ],
   "source": [
    "# Create term-document matrix\n",
    "TextDoc_matrix <- TermDocumentMatrix(TextDoc)\n",
    "\n",
    "TextDoc_matrix"
   ]
  },
  {
   "cell_type": "code",
   "execution_count": 16,
   "id": "5bcef946",
   "metadata": {},
   "outputs": [
    {
     "ename": "ERROR",
     "evalue": "Error in as.matrix(TextDoc_matrix): objeto 'TextDoc_matrix' não encontrado\n",
     "output_type": "error",
     "traceback": [
      "Error in as.matrix(TextDoc_matrix): objeto 'TextDoc_matrix' não encontrado\nTraceback:\n",
      "1. as.matrix(TextDoc_matrix)"
     ]
    }
   ],
   "source": [
    "#Transforming into a manipulable matrix\n",
    "matriz <- as.matrix(TextDoc_matrix)"
   ]
  },
  {
   "cell_type": "code",
   "execution_count": 18,
   "id": "ff56c46a",
   "metadata": {},
   "outputs": [
    {
     "ename": "ERROR",
     "evalue": "Error in is.data.frame(x): objeto 'matriz' não encontrado\n",
     "output_type": "error",
     "traceback": [
      "Error in is.data.frame(x): objeto 'matriz' não encontrado\nTraceback:\n",
      "1. sort(rowSums(matriz), decreasing = T)",
      "2. rowSums(matriz)",
      "3. is.data.frame(x)"
     ]
    }
   ],
   "source": [
    "#Descending order organization\n",
    "matriz <- sort(rowSums(matriz), decreasing=T)\n",
    "\n",
    "head(matriz,10)"
   ]
  },
  {
   "cell_type": "code",
   "execution_count": 19,
   "id": "1199f3b3",
   "metadata": {},
   "outputs": [
    {
     "ename": "ERROR",
     "evalue": "Error in data.frame(word = names(matriz), freq = matriz): objeto 'matriz' não encontrado\n",
     "output_type": "error",
     "traceback": [
      "Error in data.frame(word = names(matriz), freq = matriz): objeto 'matriz' não encontrado\nTraceback:\n",
      "1. data.frame(word = names(matriz), freq = matriz)"
     ]
    }
   ],
   "source": [
    "#Creating a dataframe\n",
    "matriz <- data.frame(word=names(matriz), freq = matriz)\n",
    "matriz\n",
    "\n",
    "head(matriz, n=10)\n",
    "\n",
    "findFreqTerms(TextDoc_matrix, lowfreq = 2, highfreq = Inf)"
   ]
  },
  {
   "cell_type": "code",
   "execution_count": 20,
   "id": "0a30cdd4",
   "metadata": {},
   "outputs": [
    {
     "ename": "ERROR",
     "evalue": "Error in findAssocs(TextDoc_matrix, \"dom\", 0.7): objeto 'TextDoc_matrix' não encontrado\n",
     "output_type": "error",
     "traceback": [
      "Error in findAssocs(TextDoc_matrix, \"dom\", 0.7): objeto 'TextDoc_matrix' não encontrado\nTraceback:\n",
      "1. findAssocs(TextDoc_matrix, \"dom\", 0.7)"
     ]
    }
   ],
   "source": [
    "# Find words that are correlated with \"dom\" with a coefficient > .70\n",
    "findAssocs(TextDoc_matrix, \"dom\", .70)\n",
    "\n",
    "# Find words that are correlated with \"dom\" with a coefficient > .50\n",
    "findAssocs(TextDoc_matrix, \"dom\", .50)"
   ]
  },
  {
   "cell_type": "code",
   "execution_count": null,
   "id": "08cbd397",
   "metadata": {},
   "outputs": [],
   "source": [
    "# Matrix creation term-document\n",
    "#TextDoc_matrix <- TermDocumentMatrix(TextDoc)\n",
    "\n",
    "Doc_TermMatriz <- DocumentTermMatrix(TextDoc) \n",
    "inspect(Doc_TermMatriz)"
   ]
  }
 ],
 "metadata": {
  "kernelspec": {
   "display_name": "R",
   "language": "R",
   "name": "ir"
  },
  "language_info": {
   "codemirror_mode": "r",
   "file_extension": ".r",
   "mimetype": "text/x-r-source",
   "name": "R",
   "pygments_lexer": "r",
   "version": "3.6.1"
  }
 },
 "nbformat": 4,
 "nbformat_minor": 5
}
